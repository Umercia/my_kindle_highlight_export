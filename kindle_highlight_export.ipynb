{
  "nbformat": 4,
  "nbformat_minor": 0,
  "metadata": {
    "colab": {
      "provenance": [],
      "authorship_tag": "ABX9TyOwNBLcYKf3/UUBTF+htRPp",
      "include_colab_link": true
    },
    "kernelspec": {
      "name": "python3",
      "display_name": "Python 3"
    },
    "language_info": {
      "name": "python"
    }
  },
  "cells": [
    {
      "cell_type": "markdown",
      "metadata": {
        "id": "view-in-github",
        "colab_type": "text"
      },
      "source": [
        "<a href=\"https://colab.research.google.com/github/Umercia/my_kindle_highlight_export/blob/main/kindle_highlight_export.ipynb\" target=\"_parent\"><img src=\"https://colab.research.google.com/assets/colab-badge.svg\" alt=\"Open In Colab\"/></a>"
      ]
    },
    {
      "cell_type": "markdown",
      "source": [
        "Objectif: format hightlighted texte from kindle ebook reader. \n",
        "raw highlight are register in the kindle memory in:\n",
        " file called 'Kindle/documents/My_clipping.txt' "
      ],
      "metadata": {
        "id": "PqLqwSbFVJyj"
      }
    },
    {
      "cell_type": "markdown",
      "source": [
        "# 1.0 Set-up\n",
        "\n"
      ],
      "metadata": {
        "id": "Qo5RW214DRvn"
      }
    },
    {
      "cell_type": "code",
      "execution_count": 1,
      "metadata": {
        "id": "CDXzJKxsCXzi"
      },
      "outputs": [],
      "source": [
        "from datetime import datetime\n",
        "import pandas as pd\n",
        "import re\n",
        "from tqdm import tqdm\n",
        "from pathlib import Path\n",
        "import regex as re\n",
        "import numpy as np"
      ]
    },
    {
      "cell_type": "code",
      "source": [
        "# variables\n",
        "ROOT = Path('/content/drive/MyDrive/Colab_Notebooks/kindle_export_notes')\n",
        "INPUT_DATA_PATH = ROOT / 'data' / 'input'\n",
        "OUTPUT_DATA_PATH = ROOT / 'data' / 'output' / 'raw'"
      ],
      "metadata": {
        "id": "7s0AGyxDzu32"
      },
      "execution_count": 78,
      "outputs": []
    },
    {
      "cell_type": "code",
      "source": [
        "# mount drive\n",
        "from google.colab import drive\n",
        "drive.mount('/content/drive/')"
      ],
      "metadata": {
        "colab": {
          "base_uri": "https://localhost:8080/"
        },
        "id": "C_8n3OfVCcj9",
        "outputId": "6ec6fb13-505d-43c2-abb1-d57119c8b67a"
      },
      "execution_count": 3,
      "outputs": [
        {
          "output_type": "stream",
          "name": "stdout",
          "text": [
            "Mounted at /content/drive/\n"
          ]
        }
      ]
    },
    {
      "cell_type": "code",
      "source": [
        "# functions\n",
        "\n",
        "def get_page_nb(txt):\n",
        "\n",
        "    line_idx = re.search(r\"\\d+\", txt)\n",
        "    return int(line_idx.group())\n",
        "\n",
        "def get_location(txt):\n",
        "\n",
        "    location = re.search(r\"\\d+-\\d+|\\d+\", txt)\n",
        "    return location.group()\n",
        "\n",
        "def get_date(txt):\n",
        "\n",
        "    date = re.search(r'\\d+.*', txt).group()\n",
        "    return date\n",
        "\n",
        "months_fr_2_eng = {'janvier' : 'January',\n",
        "                   'février': 'february',\n",
        "                   'mars': 'may',\n",
        "                   'avril': 'april',\n",
        "                   'mai': 'may',\n",
        "                   'juin': 'june',\n",
        "                   'juillet': 'jully',\n",
        "                   'août': 'august',\n",
        "                   'septembre': 'september',\n",
        "                   'octobre': 'october',\n",
        "                   'novembre': 'november',\n",
        "                   'décembre': 'december'}"
      ],
      "metadata": {
        "id": "dahv4n8TtCuW"
      },
      "execution_count": 6,
      "outputs": []
    },
    {
      "cell_type": "markdown",
      "source": [
        "# 2.0 read and process data"
      ],
      "metadata": {
        "id": "zdzHEsoYEHVi"
      }
    },
    {
      "cell_type": "code",
      "source": [
        "# read 'My Clipping.txt'\n",
        "with open(INPUT_DATA_PATH / 'My Clippings.txt', 'r', encoding=\"utf8\") as f:\n",
        "    file_txt_content = f.read()\n",
        "\n",
        "# parse to first lvl: notes\n",
        "note_delimitation_pattern = r'(.+?)\\n={10,}\\n'\n",
        "notes = re.findall(note_delimitation_pattern, file_txt_content, flags=re.DOTALL)"
      ],
      "metadata": {
        "id": "vglz1nS9qc5z"
      },
      "execution_count": 99,
      "outputs": []
    },
    {
      "cell_type": "code",
      "source": [
        "# parse each note information\n",
        "\n",
        "df = pd.DataFrame(columns=['book_title', 'page', 'location', 'date', 'text'])\n",
        "\n",
        "extract_elements_pattern =         r'^(.*)\\n(.*)\\|(.*)\\|(.*)\\n*([\\s\\S]*)$'\n",
        "extract_elements_no_page_pattern = r'^(.*)\\n(.*)\\|(.*)\\n*([\\s\\S]*)$'\n",
        "\n",
        "for note in tqdm(notes):  \n",
        "\n",
        "    try:\n",
        "        elements = re.findall(extract_elements_pattern, note)[0]\n",
        "    \n",
        "        title = elements[0]\n",
        "        page = get_page_nb(elements[1])\n",
        "        location = get_location(elements[2])\n",
        "        date = get_date(elements[3])\n",
        "        highlighted = elements[4]\n",
        "    \n",
        "    except:   # handle missing element due to missing page information\n",
        "        elements = re.findall(extract_elements_no_page_pattern, note)[0]\n",
        "\n",
        "        title = elements[0]\n",
        "        page = None\n",
        "        location = get_location(elements[1])\n",
        "        date = get_date(elements[2])\n",
        "        highlighted = elements[3]\n",
        "\n",
        "    df.loc[len(df)] = [title, page, location, date, highlighted]\n"
      ],
      "metadata": {
        "colab": {
          "base_uri": "https://localhost:8080/"
        },
        "id": "beHjke751mme",
        "outputId": "7f6630a3-85a3-425a-f028-00fabad90350"
      },
      "execution_count": 103,
      "outputs": [
        {
          "output_type": "stream",
          "name": "stderr",
          "text": [
            "100%|██████████| 4706/4706 [00:12<00:00, 374.30it/s]\n"
          ]
        }
      ]
    },
    {
      "cell_type": "code",
      "source": [
        "# cleaning and processing\n",
        "\n",
        "# book titles, rename some books for shorter name\n",
        "book_title_mapping = { \n",
        "                        'How to Take Smart Notes: One Simple Technique to Boost Writing, Learning and Thinking – for Students, Academics and Nonfiction Book Writers (Sönke Ahrens)': 'How to Take Smart Notes',\n",
        "                        'Le jardinier-maraîcher - 2ème édition (Guides pratiques) (French Edition) (Fortier, Jean-Martin)':'Le jardinier-maraîcher',\n",
        "                        'Le potager du paresseux - Produire en abondance des légumes plus que bio, sans compost, sans travail du sol, sans buttes - nouvelle édition augmentée et illustrée (French Edition) (HELMSTETTER, Didier)':'Le potager du paresseux',   \n",
        "                        \"\\ufeffPhilippe de Villiers (Le moment est venu de dire ce que j'ai vu-ALBIN MICHEL (2015))\":\"Le moment est venu de dire ce que j'ai vu\",\n",
        "                      }\n",
        "\n",
        "df['book_title'] = (df['book_title'].replace(book_title_mapping)\n",
        "                                    .str.split('(', expand=True)[0]\n",
        "                                    .str.strip()\n",
        "                                    )\n",
        "\n",
        "# formating & highlight locations parsing\n",
        "df[['loc_start', 'loc_end']] = (df['location'].str.split('-', expand=True)\n",
        "                                              .astype(float))\n",
        "\n",
        "df['text'] = df['text'].replace('','XXX')\n",
        "\n",
        "mask = df['text'] == 'XXX'\n",
        "df.loc[mask,'loc_end'] = df.loc[mask,'loc_start']\n",
        "df['loc_start_i+1'] = df['loc_start'].shift(-1)\n",
        "df = (df.sort_values(by=['book_title', 'loc_start', 'loc_end'])\n",
        "        .reset_index(drop=True)\n",
        "        .drop_duplicates())\n",
        "\n",
        "# handle title notes, marked with a \"note\" refering to title level (1, 2, 3)\n",
        "df['is_title'] = 0\n",
        "for idx in df.index[:-1]:\n",
        "    if (df.loc[idx,'loc_end'] >=  df.loc[idx+1,'loc_start']) & (df.loc[idx+1,'text'] in ['1', '2', '3']):\n",
        "        df.loc[idx,'is_title'] = int(df.loc[idx+1,'text'])"
      ],
      "metadata": {
        "id": "xHfH_Q_nFIqK"
      },
      "execution_count": 104,
      "outputs": []
    },
    {
      "cell_type": "code",
      "source": [
        "df.sample(10)"
      ],
      "metadata": {
        "id": "tDUV8tG7ftdR"
      },
      "execution_count": null,
      "outputs": []
    },
    {
      "cell_type": "markdown",
      "source": [
        "# 3.0 Export Highlights"
      ],
      "metadata": {
        "id": "3FF_mHjAUwQg"
      }
    },
    {
      "cell_type": "code",
      "source": [
        "# export hihlights to files (one per book)\n",
        "book_titles = df['book_title'].unique()\n",
        "\n",
        "for book_title in book_titles:\n",
        "    indent_spaces = 0\n",
        "    with open(OUTPUT_DATA_PATH / f'{book_title}.txt', \"w\") as f:\n",
        "\n",
        "        for row in df.query('(book_title == @book_title) & (loc_end > 0)').drop_duplicates(subset=['loc_start'], keep='last').itertuples():\n",
        "            if row.is_title > 0:\n",
        "                f.write('\\n')\n",
        "                indent_spaces = int(row.is_title)\n",
        "                f.write('    '*(indent_spaces) + row.text.upper())\n",
        "                f.write(\"\\n\")\n",
        "                f.write('    '*(indent_spaces) + '-'* (len(row.text)))\n",
        "                f.write(\"\\n\")\n",
        "                \n",
        "            else:\n",
        "                f.write('    '*(indent_spaces+1) + '-' + row.text)\n",
        "                f.write(\"\\n\")"
      ],
      "metadata": {
        "id": "JT_2XKJYB-4c"
      },
      "execution_count": 89,
      "outputs": []
    }
  ]
}