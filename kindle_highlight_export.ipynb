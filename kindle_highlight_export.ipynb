{
  "nbformat": 4,
  "nbformat_minor": 0,
  "metadata": {
    "colab": {
      "provenance": [],
      "authorship_tag": "ABX9TyOwNBLcYKf3/UUBTF+htRPp",
      "include_colab_link": true
    },
    "kernelspec": {
      "name": "python3",
      "display_name": "Python 3"
    },
    "language_info": {
      "name": "python"
    }
  },
  "cells": [
    {
      "cell_type": "markdown",
      "metadata": {
        "id": "view-in-github",
        "colab_type": "text"
      },
      "source": [
        "<a href=\"https://colab.research.google.com/github/Umercia/my_kindle_highlight_export/blob/main/kindle_highlight_export.ipynb\" target=\"_parent\"><img src=\"https://colab.research.google.com/assets/colab-badge.svg\" alt=\"Open In Colab\"/></a>"
      ]
    },
    {
      "cell_type": "markdown",
      "source": [
        "Objectif: format hightlighted texte from kindle ebook reader. \n",
        "raw highlight are register in the kindle memory in:\n",
        " file called 'Kindle/documents/My_clipping.txt' "
      ],
      "metadata": {
        "id": "PqLqwSbFVJyj"
      }
    },
    {
      "cell_type": "markdown",
      "source": [
        "# 1.0 Set-up\n",
        "\n"
      ],
      "metadata": {
        "id": "Qo5RW214DRvn"
      }
    },
    {
      "cell_type": "code",
      "execution_count": 1,
      "metadata": {
        "id": "CDXzJKxsCXzi"
      },
      "outputs": [],
      "source": [
        "from datetime import datetime\n",
        "import pandas as pd\n",
        "import re\n",
        "from tqdm import tqdm\n",
        "from pathlib import Path\n",
        "import regex as re\n",
        "import numpy as np"
      ]
    },
    {
      "cell_type": "code",
      "source": [
        "# variables\n",
        "ROOT = Path('/content/drive/MyDrive/Colab_Notebooks/kindle_export_notes')\n",
        "INPUT_DATA_PATH = ROOT / 'data' / 'input'\n",
        "OUTPUT_DATA_PATH = ROOT / 'data' / 'output' / 'raw'"
      ],
      "metadata": {
        "id": "7s0AGyxDzu32"
      },
      "execution_count": 78,
      "outputs": []
    },
    {
      "cell_type": "code",
      "source": [
        "# mount drive\n",
        "from google.colab import drive\n",
        "drive.mount('/content/drive/')"
      ],
      "metadata": {
        "colab": {
          "base_uri": "https://localhost:8080/"
        },
        "id": "C_8n3OfVCcj9",
        "outputId": "6ec6fb13-505d-43c2-abb1-d57119c8b67a"
      },
      "execution_count": 3,
      "outputs": [
        {
          "output_type": "stream",
          "name": "stdout",
          "text": [
            "Mounted at /content/drive/\n"
          ]
        }
      ]
    },
    {
      "cell_type": "code",
      "source": [
        "# functions\n",
        "\n",
        "def get_page_nb(txt):\n",
        "\n",
        "    line_idx = re.search(r\"\\d+\", txt)\n",
        "    return int(line_idx.group())\n",
        "\n",
        "def get_location(txt):\n",
        "\n",
        "    location = re.search(r\"\\d+-\\d+|\\d+\", txt)\n",
        "    return location.group()\n",
        "\n",
        "def get_date(txt):\n",
        "\n",
        "    date = re.search(r'\\d+.*', txt).group()\n",
        "    return date\n",
        "\n",
        "months_fr_2_eng = {'janvier' : 'January',\n",
        "                   'février': 'february',\n",
        "                   'mars': 'may',\n",
        "                   'avril': 'april',\n",
        "                   'mai': 'may',\n",
        "                   'juin': 'june',\n",
        "                   'juillet': 'jully',\n",
        "                   'août': 'august',\n",
        "                   'septembre': 'september',\n",
        "                   'octobre': 'october',\n",
        "                   'novembre': 'november',\n",
        "                   'décembre': 'december'}"
      ],
      "metadata": {
        "id": "dahv4n8TtCuW"
      },
      "execution_count": 6,
      "outputs": []
    },
    {
      "cell_type": "markdown",
      "source": [
        "# 2.0 read and process data"
      ],
      "metadata": {
        "id": "zdzHEsoYEHVi"
      }
    },
    {
      "cell_type": "code",
      "source": [
        "# read 'My Clipping.txt'\n",
        "with open(INPUT_DATA_PATH / 'My Clippings.txt', 'r', encoding=\"utf8\") as f:\n",
        "    file_txt_content = f.read()\n",
        "\n",
        "# parse to first lvl: notes\n",
        "note_delimitation_pattern = r'(.+?)\\n={10,}\\n'\n",
        "notes = re.findall(note_delimitation_pattern, file_txt_content, flags=re.DOTALL)"
      ],
      "metadata": {
        "id": "vglz1nS9qc5z"
      },
      "execution_count": 99,
      "outputs": []
    },
    {
      "cell_type": "code",
      "source": [
        "# parse each note information\n",
        "\n",
        "df = pd.DataFrame(columns=['book_title', 'page', 'location', 'date', 'text'])\n",
        "\n",
        "extract_elements_pattern =         r'^(.*)\\n(.*)\\|(.*)\\|(.*)\\n*([\\s\\S]*)$'\n",
        "extract_elements_no_page_pattern = r'^(.*)\\n(.*)\\|(.*)\\n*([\\s\\S]*)$'\n",
        "\n",
        "for note in tqdm(notes):  \n",
        "\n",
        "    try:\n",
        "        elements = re.findall(extract_elements_pattern, note)[0]\n",
        "    \n",
        "        title = elements[0]\n",
        "        page = get_page_nb(elements[1])\n",
        "        location = get_location(elements[2])\n",
        "        date = get_date(elements[3])\n",
        "        highlighted = elements[4]\n",
        "    \n",
        "    except:   # handle missing element due to missing page information\n",
        "        elements = re.findall(extract_elements_no_page_pattern, note)[0]\n",
        "\n",
        "        title = elements[0]\n",
        "        page = None\n",
        "        location = get_location(elements[1])\n",
        "        date = get_date(elements[2])\n",
        "        highlighted = elements[3]\n",
        "\n",
        "    df.loc[len(df)] = [title, page, location, date, highlighted]\n"
      ],
      "metadata": {
        "colab": {
          "base_uri": "https://localhost:8080/"
        },
        "id": "beHjke751mme",
        "outputId": "7f6630a3-85a3-425a-f028-00fabad90350"
      },
      "execution_count": 103,
      "outputs": [
        {
          "output_type": "stream",
          "name": "stderr",
          "text": [
            "100%|██████████| 4706/4706 [00:12<00:00, 374.30it/s]\n"
          ]
        }
      ]
    },
    {
      "cell_type": "code",
      "source": [
        "# cleaning and processing\n",
        "\n",
        "# book titles, rename some books for shorter name\n",
        "book_title_mapping = { \n",
        "                        'How to Take Smart Notes: One Simple Technique to Boost Writing, Learning and Thinking – for Students, Academics and Nonfiction Book Writers (Sönke Ahrens)': 'How to Take Smart Notes',\n",
        "                        'Le jardinier-maraîcher - 2ème édition (Guides pratiques) (French Edition) (Fortier, Jean-Martin)':'Le jardinier-maraîcher',\n",
        "                        'Le potager du paresseux - Produire en abondance des légumes plus que bio, sans compost, sans travail du sol, sans buttes - nouvelle édition augmentée et illustrée (French Edition) (HELMSTETTER, Didier)':'Le potager du paresseux',   \n",
        "                        \"\\ufeffPhilippe de Villiers (Le moment est venu de dire ce que j'ai vu-ALBIN MICHEL (2015))\":\"Le moment est venu de dire ce que j'ai vu\",\n",
        "                      }\n",
        "\n",
        "df['book_title'] = (df['book_title'].replace(book_title_mapping)\n",
        "                                    .str.split('(', expand=True)[0]\n",
        "                                    .str.strip()\n",
        "                                    )\n",
        "\n",
        "# formating & highlight locations parsing\n",
        "df[['loc_start', 'loc_end']] = (df['location'].str.split('-', expand=True)\n",
        "                                              .astype(float))\n",
        "\n",
        "df['text'] = df['text'].replace('','XXX')\n",
        "\n",
        "mask = df['text'] == 'XXX'\n",
        "df.loc[mask,'loc_end'] = df.loc[mask,'loc_start']\n",
        "df['loc_start_i+1'] = df['loc_start'].shift(-1)\n",
        "df = (df.sort_values(by=['book_title', 'loc_start', 'loc_end'])\n",
        "        .reset_index(drop=True)\n",
        "        .drop_duplicates())\n",
        "\n",
        "# handle title notes, marked with a \"note\" refering to title level (1, 2, 3)\n",
        "df['is_title'] = 0\n",
        "for idx in df.index[:-1]:\n",
        "    if (df.loc[idx,'loc_end'] >=  df.loc[idx+1,'loc_start']) & (df.loc[idx+1,'text'] in ['1', '2', '3']):\n",
        "        df.loc[idx,'is_title'] = int(df.loc[idx+1,'text'])"
      ],
      "metadata": {
        "id": "xHfH_Q_nFIqK"
      },
      "execution_count": 104,
      "outputs": []
    },
    {
      "cell_type": "code",
      "source": [
        "df.sample(10)"
      ],
      "metadata": {
        "colab": {
          "base_uri": "https://localhost:8080/",
          "height": 494
        },
        "id": "0qH54Q_PazkE",
        "outputId": "22f4c81a-27d3-4b21-8f0b-acf0ae416e4c"
      },
      "execution_count": 105,
      "outputs": [
        {
          "output_type": "execute_result",
          "data": {
            "text/plain": [
              "                                             book_title  page   location  \\\n",
              "791                                       Atomic Habits   181       2339   \n",
              "4358                                         Toxic Data    78        752   \n",
              "312                     3 jours de jeûne, c'est parti !   114  1312-1312   \n",
              "4533                                         Toxic Data   336       3296   \n",
              "4690  ﻿One Small Step Can Change Your Life: The Kaiz...    97  1487-1487   \n",
              "3986                         The Big Book of Dashboards   377  5773-5776   \n",
              "1954                             Le jardinier-maraîcher  None  1730-1731   \n",
              "1302                                       Effondrement   328       5023   \n",
              "3346                             L’horloge de la nature   135       1799   \n",
              "407                                      AI Superpowers    59        896   \n",
              "\n",
              "                            date  \\\n",
              "791       30 March 2023 19:07:37   \n",
              "4358    17 January 2023 09:08:01   \n",
              "312        13 July 2022 18:21:39   \n",
              "4533       2 March 2023 20:34:24   \n",
              "4690        20 mai 2019 07:45:14   \n",
              "3986       15 July 2019 07:35:47   \n",
              "1954       20 June 2021 19:28:06   \n",
              "1302       5 March 2020 19:59:30   \n",
              "3346  28 September 2021 20:34:59   \n",
              "407       2 August 2019 18:10:29   \n",
              "\n",
              "                                                   text  loc_start  loc_end  \\\n",
              "791                                                 XXX     2339.0   2339.0   \n",
              "4358                                                  1      752.0      NaN   \n",
              "312    <You have reached the clipping limit for this...     1312.0   1312.0   \n",
              "4533                                                  2     3296.0      NaN   \n",
              "4690    The reward should be appropriate to the person.     1487.0   1487.0   \n",
              "3986  The y-axis in Figure 31.16 does not start at z...     5773.0   5776.0   \n",
              "1954  La subdivision de nos jardins en 10 parcelles ...     1730.0   1731.0   \n",
              "1302                                                  1     5023.0      NaN   \n",
              "3346                                                  2     1799.0      NaN   \n",
              "407                                                   1      896.0      NaN   \n",
              "\n",
              "      loc_start_i+1  is_title  \n",
              "791          2340.0         1  \n",
              "4358          774.0         0  \n",
              "312          1312.0         0  \n",
              "4533         3322.0         0  \n",
              "4690         1497.0         0  \n",
              "3986         5785.0         0  \n",
              "1954         1731.0         0  \n",
              "1302           86.0         0  \n",
              "3346         1799.0         0  \n",
              "407          1144.0         0  "
            ],
            "text/html": [
              "\n",
              "  <div id=\"df-c804133b-3cf0-4a7c-9f29-9de4acdefb10\">\n",
              "    <div class=\"colab-df-container\">\n",
              "      <div>\n",
              "<style scoped>\n",
              "    .dataframe tbody tr th:only-of-type {\n",
              "        vertical-align: middle;\n",
              "    }\n",
              "\n",
              "    .dataframe tbody tr th {\n",
              "        vertical-align: top;\n",
              "    }\n",
              "\n",
              "    .dataframe thead th {\n",
              "        text-align: right;\n",
              "    }\n",
              "</style>\n",
              "<table border=\"1\" class=\"dataframe\">\n",
              "  <thead>\n",
              "    <tr style=\"text-align: right;\">\n",
              "      <th></th>\n",
              "      <th>book_title</th>\n",
              "      <th>page</th>\n",
              "      <th>location</th>\n",
              "      <th>date</th>\n",
              "      <th>text</th>\n",
              "      <th>loc_start</th>\n",
              "      <th>loc_end</th>\n",
              "      <th>loc_start_i+1</th>\n",
              "      <th>is_title</th>\n",
              "    </tr>\n",
              "  </thead>\n",
              "  <tbody>\n",
              "    <tr>\n",
              "      <th>791</th>\n",
              "      <td>Atomic Habits</td>\n",
              "      <td>181</td>\n",
              "      <td>2339</td>\n",
              "      <td>30 March 2023 19:07:37</td>\n",
              "      <td>XXX</td>\n",
              "      <td>2339.0</td>\n",
              "      <td>2339.0</td>\n",
              "      <td>2340.0</td>\n",
              "      <td>1</td>\n",
              "    </tr>\n",
              "    <tr>\n",
              "      <th>4358</th>\n",
              "      <td>Toxic Data</td>\n",
              "      <td>78</td>\n",
              "      <td>752</td>\n",
              "      <td>17 January 2023 09:08:01</td>\n",
              "      <td>1</td>\n",
              "      <td>752.0</td>\n",
              "      <td>NaN</td>\n",
              "      <td>774.0</td>\n",
              "      <td>0</td>\n",
              "    </tr>\n",
              "    <tr>\n",
              "      <th>312</th>\n",
              "      <td>3 jours de jeûne, c'est parti !</td>\n",
              "      <td>114</td>\n",
              "      <td>1312-1312</td>\n",
              "      <td>13 July 2022 18:21:39</td>\n",
              "      <td>&lt;You have reached the clipping limit for this...</td>\n",
              "      <td>1312.0</td>\n",
              "      <td>1312.0</td>\n",
              "      <td>1312.0</td>\n",
              "      <td>0</td>\n",
              "    </tr>\n",
              "    <tr>\n",
              "      <th>4533</th>\n",
              "      <td>Toxic Data</td>\n",
              "      <td>336</td>\n",
              "      <td>3296</td>\n",
              "      <td>2 March 2023 20:34:24</td>\n",
              "      <td>2</td>\n",
              "      <td>3296.0</td>\n",
              "      <td>NaN</td>\n",
              "      <td>3322.0</td>\n",
              "      <td>0</td>\n",
              "    </tr>\n",
              "    <tr>\n",
              "      <th>4690</th>\n",
              "      <td>﻿One Small Step Can Change Your Life: The Kaiz...</td>\n",
              "      <td>97</td>\n",
              "      <td>1487-1487</td>\n",
              "      <td>20 mai 2019 07:45:14</td>\n",
              "      <td>The reward should be appropriate to the person.</td>\n",
              "      <td>1487.0</td>\n",
              "      <td>1487.0</td>\n",
              "      <td>1497.0</td>\n",
              "      <td>0</td>\n",
              "    </tr>\n",
              "    <tr>\n",
              "      <th>3986</th>\n",
              "      <td>The Big Book of Dashboards</td>\n",
              "      <td>377</td>\n",
              "      <td>5773-5776</td>\n",
              "      <td>15 July 2019 07:35:47</td>\n",
              "      <td>The y-axis in Figure 31.16 does not start at z...</td>\n",
              "      <td>5773.0</td>\n",
              "      <td>5776.0</td>\n",
              "      <td>5785.0</td>\n",
              "      <td>0</td>\n",
              "    </tr>\n",
              "    <tr>\n",
              "      <th>1954</th>\n",
              "      <td>Le jardinier-maraîcher</td>\n",
              "      <td>None</td>\n",
              "      <td>1730-1731</td>\n",
              "      <td>20 June 2021 19:28:06</td>\n",
              "      <td>La subdivision de nos jardins en 10 parcelles ...</td>\n",
              "      <td>1730.0</td>\n",
              "      <td>1731.0</td>\n",
              "      <td>1731.0</td>\n",
              "      <td>0</td>\n",
              "    </tr>\n",
              "    <tr>\n",
              "      <th>1302</th>\n",
              "      <td>Effondrement</td>\n",
              "      <td>328</td>\n",
              "      <td>5023</td>\n",
              "      <td>5 March 2020 19:59:30</td>\n",
              "      <td>1</td>\n",
              "      <td>5023.0</td>\n",
              "      <td>NaN</td>\n",
              "      <td>86.0</td>\n",
              "      <td>0</td>\n",
              "    </tr>\n",
              "    <tr>\n",
              "      <th>3346</th>\n",
              "      <td>L’horloge de la nature</td>\n",
              "      <td>135</td>\n",
              "      <td>1799</td>\n",
              "      <td>28 September 2021 20:34:59</td>\n",
              "      <td>2</td>\n",
              "      <td>1799.0</td>\n",
              "      <td>NaN</td>\n",
              "      <td>1799.0</td>\n",
              "      <td>0</td>\n",
              "    </tr>\n",
              "    <tr>\n",
              "      <th>407</th>\n",
              "      <td>AI Superpowers</td>\n",
              "      <td>59</td>\n",
              "      <td>896</td>\n",
              "      <td>2 August 2019 18:10:29</td>\n",
              "      <td>1</td>\n",
              "      <td>896.0</td>\n",
              "      <td>NaN</td>\n",
              "      <td>1144.0</td>\n",
              "      <td>0</td>\n",
              "    </tr>\n",
              "  </tbody>\n",
              "</table>\n",
              "</div>\n",
              "      <button class=\"colab-df-convert\" onclick=\"convertToInteractive('df-c804133b-3cf0-4a7c-9f29-9de4acdefb10')\"\n",
              "              title=\"Convert this dataframe to an interactive table.\"\n",
              "              style=\"display:none;\">\n",
              "        \n",
              "  <svg xmlns=\"http://www.w3.org/2000/svg\" height=\"24px\"viewBox=\"0 0 24 24\"\n",
              "       width=\"24px\">\n",
              "    <path d=\"M0 0h24v24H0V0z\" fill=\"none\"/>\n",
              "    <path d=\"M18.56 5.44l.94 2.06.94-2.06 2.06-.94-2.06-.94-.94-2.06-.94 2.06-2.06.94zm-11 1L8.5 8.5l.94-2.06 2.06-.94-2.06-.94L8.5 2.5l-.94 2.06-2.06.94zm10 10l.94 2.06.94-2.06 2.06-.94-2.06-.94-.94-2.06-.94 2.06-2.06.94z\"/><path d=\"M17.41 7.96l-1.37-1.37c-.4-.4-.92-.59-1.43-.59-.52 0-1.04.2-1.43.59L10.3 9.45l-7.72 7.72c-.78.78-.78 2.05 0 2.83L4 21.41c.39.39.9.59 1.41.59.51 0 1.02-.2 1.41-.59l7.78-7.78 2.81-2.81c.8-.78.8-2.07 0-2.86zM5.41 20L4 18.59l7.72-7.72 1.47 1.35L5.41 20z\"/>\n",
              "  </svg>\n",
              "      </button>\n",
              "      \n",
              "  <style>\n",
              "    .colab-df-container {\n",
              "      display:flex;\n",
              "      flex-wrap:wrap;\n",
              "      gap: 12px;\n",
              "    }\n",
              "\n",
              "    .colab-df-convert {\n",
              "      background-color: #E8F0FE;\n",
              "      border: none;\n",
              "      border-radius: 50%;\n",
              "      cursor: pointer;\n",
              "      display: none;\n",
              "      fill: #1967D2;\n",
              "      height: 32px;\n",
              "      padding: 0 0 0 0;\n",
              "      width: 32px;\n",
              "    }\n",
              "\n",
              "    .colab-df-convert:hover {\n",
              "      background-color: #E2EBFA;\n",
              "      box-shadow: 0px 1px 2px rgba(60, 64, 67, 0.3), 0px 1px 3px 1px rgba(60, 64, 67, 0.15);\n",
              "      fill: #174EA6;\n",
              "    }\n",
              "\n",
              "    [theme=dark] .colab-df-convert {\n",
              "      background-color: #3B4455;\n",
              "      fill: #D2E3FC;\n",
              "    }\n",
              "\n",
              "    [theme=dark] .colab-df-convert:hover {\n",
              "      background-color: #434B5C;\n",
              "      box-shadow: 0px 1px 3px 1px rgba(0, 0, 0, 0.15);\n",
              "      filter: drop-shadow(0px 1px 2px rgba(0, 0, 0, 0.3));\n",
              "      fill: #FFFFFF;\n",
              "    }\n",
              "  </style>\n",
              "\n",
              "      <script>\n",
              "        const buttonEl =\n",
              "          document.querySelector('#df-c804133b-3cf0-4a7c-9f29-9de4acdefb10 button.colab-df-convert');\n",
              "        buttonEl.style.display =\n",
              "          google.colab.kernel.accessAllowed ? 'block' : 'none';\n",
              "\n",
              "        async function convertToInteractive(key) {\n",
              "          const element = document.querySelector('#df-c804133b-3cf0-4a7c-9f29-9de4acdefb10');\n",
              "          const dataTable =\n",
              "            await google.colab.kernel.invokeFunction('convertToInteractive',\n",
              "                                                     [key], {});\n",
              "          if (!dataTable) return;\n",
              "\n",
              "          const docLinkHtml = 'Like what you see? Visit the ' +\n",
              "            '<a target=\"_blank\" href=https://colab.research.google.com/notebooks/data_table.ipynb>data table notebook</a>'\n",
              "            + ' to learn more about interactive tables.';\n",
              "          element.innerHTML = '';\n",
              "          dataTable['output_type'] = 'display_data';\n",
              "          await google.colab.output.renderOutput(dataTable, element);\n",
              "          const docLink = document.createElement('div');\n",
              "          docLink.innerHTML = docLinkHtml;\n",
              "          element.appendChild(docLink);\n",
              "        }\n",
              "      </script>\n",
              "    </div>\n",
              "  </div>\n",
              "  "
            ]
          },
          "metadata": {},
          "execution_count": 105
        }
      ]
    },
    {
      "cell_type": "markdown",
      "source": [
        "# 3.0 Export Highlights"
      ],
      "metadata": {
        "id": "3FF_mHjAUwQg"
      }
    },
    {
      "cell_type": "code",
      "source": [
        "# export hihlights to files (one per book)\n",
        "book_titles = df['book_title'].unique()\n",
        "\n",
        "for book_title in book_titles:\n",
        "    indent_spaces = 0\n",
        "    with open(OUTPUT_DATA_PATH / f'{book_title}.txt', \"w\") as f:\n",
        "\n",
        "        for row in df.query('(book_title == @book_title) & (loc_end > 0)').drop_duplicates(subset=['loc_start'], keep='last').itertuples():\n",
        "            if row.is_title > 0:\n",
        "                f.write('\\n')\n",
        "                indent_spaces = int(row.is_title)\n",
        "                f.write('    '*(indent_spaces) + row.text.upper())\n",
        "                f.write(\"\\n\")\n",
        "                f.write('    '*(indent_spaces) + '-'* (len(row.text)))\n",
        "                f.write(\"\\n\")\n",
        "                \n",
        "            else:\n",
        "                f.write('    '*(indent_spaces+1) + '-' + row.text)\n",
        "                f.write(\"\\n\")"
      ],
      "metadata": {
        "id": "JT_2XKJYB-4c"
      },
      "execution_count": 89,
      "outputs": []
    }
  ]
}